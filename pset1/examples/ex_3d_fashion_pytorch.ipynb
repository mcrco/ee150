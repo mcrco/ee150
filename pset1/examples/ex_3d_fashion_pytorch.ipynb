{
 "cells": [
  {
   "cell_type": "markdown",
   "metadata": {},
   "source": [
    "# Fashion MNIST with MLP (PyTorch)\n",
    "\n",
    "In this example you'll train a Multi Layer Perceptron (MLP) on the Fashion MNIST.\n",
    "An MLP is known as a \"fully connected neural network\" because every perceptron/neuron\n",
    "is connected to every other perceptron in the next layer.\n",
    "\n",
    "This is a widely used dataset, kind of like the *Hello World!* of deep learning.\n",
    "The dataset contains **60k training samples** and **10k testing samples** where\n",
    "each sample is a small **$28 \\times 28$** grayscale image. Each sample also has\n",
    "a label, which corresponds to the **class** or type of clothing shown in the\n",
    "image.\n",
    "\n",
    "Here are the classes and their integer labels:\n",
    "\n",
    "| **Label** | **Description**  |\n",
    "|-----------|------------------|\n",
    "| 0         | T-shirt/top      |\n",
    "| 1         | Trouser          |\n",
    "| 2         | Pullover         |\n",
    "| 3         | Dress            |\n",
    "| 4         | Coat             |\n",
    "| 5         | Sandal           |\n",
    "| 6         | Shirt            |\n",
    "| 7         | Sneaker          |\n",
    "| 8         | Bag              |\n",
    "| 9         | Ankle boot       |\n",
    "\n",
    "Take a look at some of the samples using the dataset viewer: https://huggingface.co/datasets/zalando-datasets/fashion_mnist/viewer/fashion_mnist/train\n",
    "\n",
    "Here are some examples (three rows of samples for each class):\n",
    "\n",
    "![dataset preview](https://github.com/zalandoresearch/fashion-mnist/raw/master/doc/img/fashion-mnist-sprite.png)"
   ]
  },
  {
   "cell_type": "markdown",
   "metadata": {},
   "source": [
    "## Import Packages"
   ]
  },
  {
   "cell_type": "code",
   "execution_count": 14,
   "metadata": {},
   "outputs": [],
   "source": [
    "import numpy as np\n",
    "import torch\n",
    "import matplotlib.pyplot as plt\n",
    "import gdown\n",
    "import zipfile\n",
    "from tabulate import tabulate"
   ]
  },
  {
   "cell_type": "markdown",
   "metadata": {},
   "source": [
    "## Dataset Setup\n",
    "\n",
    "We will...\n",
    "- download the `fashion_mnist.zip` from google drive\n",
    "- unzip it into the `../dataset` directory"
   ]
  },
  {
   "cell_type": "code",
   "execution_count": 15,
   "metadata": {},
   "outputs": [],
   "source": [
    "import os\n",
    "dataset_downloaded = os.path.exists(\"../dataset\")"
   ]
  },
  {
   "cell_type": "code",
   "execution_count": 16,
   "metadata": {},
   "outputs": [],
   "source": [
    "# download fashion_mnist.zip file from google drive\n",
    "\n",
    "if not dataset_downloaded:\n",
    "    file_id = \"1EQPgZ1401yUN0Y64YNcAIKWMuxgA4ID4\"\n",
    "    file_url = f\"https://drive.google.com/file/d/{file_id}\"  # for your reference if you want to manually download\n",
    "    gdown.download(id=file_id, output=\"../fashion_mnist.zip\")"
   ]
  },
  {
   "cell_type": "code",
   "execution_count": 17,
   "metadata": {},
   "outputs": [],
   "source": [
    "# unzip the file\n",
    "\n",
    "if not dataset_downloaded:\n",
    "    zip_path = '../fashion_mnist.zip'\n",
    "    extract_to = '../'\n",
    "\n",
    "    with zipfile.ZipFile(zip_path, 'r') as zip_ref:\n",
    "        zip_ref.extractall(extract_to)\n",
    "    print(\"Extraction complete. Take a look inside the dataset/ folder before you move on!\")"
   ]
  },
  {
   "cell_type": "markdown",
   "metadata": {},
   "source": [
    "## Dataset Class\n",
    "In the PyTorch workflow, we always make a custom dataset that extends `torch.utils.data.Dataset`.\n",
    "Every `Dataset` must implement the following methods...\n",
    "- `__init__(self, ...)`: load dataset metadata and sample filepaths\n",
    "- `__getitem__(self, idx)`: returns dataset sample at index: idx, we load the image from the filepath, normalize it, and also load it's label (one-hot encoded vector to represent class)\n",
    "- `__len__(self)` methods: returns length of the dataset (how many samples there are)"
   ]
  },
  {
   "cell_type": "code",
   "execution_count": 18,
   "metadata": {},
   "outputs": [],
   "source": [
    "import torch\n",
    "from torch.utils.data import Dataset, DataLoader\n",
    "import torchvision.transforms as transforms\n",
    "from PIL import Image\n",
    "import pandas as pd\n",
    "\n",
    "class FashionDataset(Dataset):\n",
    "    \"\"\"MNIST Fashion Dataset\n",
    "    Each sample is a tuple (x, y)\n",
    "    - x is a 28x28 grayscale image (normalized to pixel values from 0-1)\n",
    "    - y is an integer label representing the class of this sample\n",
    "    \"\"\"\n",
    "\n",
    "    def __init__(self, csv_path):\n",
    "        self.csv_path = csv_path\n",
    "        self.meta = pd.read_csv(csv_path)\n",
    "\n",
    "    def __len__(self):\n",
    "        return len(self.meta)\n",
    "\n",
    "    def __getitem__(self, idx):\n",
    "        filepath, label = self.meta.iloc[idx]\n",
    "        image = Image.open(\"../\" + filepath)\n",
    "        transform = transforms.Compose([transforms.PILToTensor()])\n",
    "        img_tensor = transform(image)[0].float() / 255.0  # Normalize\n",
    "        return img_tensor, label  # Return label as an integer"
   ]
  },
  {
   "cell_type": "code",
   "execution_count": 19,
   "metadata": {},
   "outputs": [
    {
     "name": "stdout",
     "output_type": "stream",
     "text": [
      "Lengths of datasets: 60000 train + 10000 test\n",
      "Explore sample:\n",
      "╭───────────────┬──────────────────────┬───────────────┬──────────────────────────────────────────────────────────────────────────────────╮\n",
      "│ Description   │ Shape                │ DType         │ Preview                                                                          │\n",
      "├───────────────┼──────────────────────┼───────────────┼──────────────────────────────────────────────────────────────────────────────────┤\n",
      "│ Input Image   │ torch.Size([28, 28]) │ torch.float32 │ tensor([[0.0000, 0.0000, 0.0000, 0.0000, 0.0000, 0.0039, 0.0078, 0.0000, 0.0000, │\n",
      "│               │                      │               │          0.0000, 0.0000, 0.2275, 0.3451, 0.4000, 0.3059, 0.3922, 0.5020, 0.3686, │\n",
      "│               │                      │               │          0.0000, 0.0000, 0.0000, 0.0000, 0.0000, 0.0078, 0.0000, 0.0000, 0.0000, │\n",
      "│               │                      │               │          0.0000],                                                                │\n",
      "│               │                      │               │         [0.0000, 0.0000, 0.0000, 0.0000, 0.0039, 0.0039, 0.0039, 0.0078, 0.0000, │\n",
      "│               │                      │               │          0.0000, 0.0353, 0.8314, 0.6706, 0.7647, 0.6902, 0.8706, 0.7373, 0.7294, │\n",
      "│               │                      │               │          0.2314, 0.0000, 0.0039, 0.0039, 0.0118, 0.0039, 0.0000, 0.0000, 0.00... │\n",
      "├───────────────┼──────────────────────┼───────────────┼──────────────────────────────────────────────────────────────────────────────────┤\n",
      "│ Output Label  │ ()                   │ torch.float32 │ 6                                                                                │\n",
      "╰───────────────┴──────────────────────┴───────────────┴──────────────────────────────────────────────────────────────────────────────────╯\n"
     ]
    }
   ],
   "source": [
    "\"\"\"\n",
    "load datasets\n",
    "\n",
    "partition semantics\n",
    "-------------------\n",
    "* all partitions are disjoint (no overlapping samples)\n",
    "train - used to train your samples\n",
    "validation - used to validate your samples (during training)\n",
    "test - used to test your model (after training)\n",
    "\n",
    "NOTE: the point of having separate validation and test sets is to avoid over-\n",
    "correcting your hyperparameters to the test set. You can monitor your model's\n",
    "performance during training using the validation set (which the model never \n",
    "sees in training) and then do your final test using the testing set.\n",
    "\n",
    "For simplicity, we'll make our validation and test set the same.\n",
    "\"\"\"\n",
    "\n",
    "train_dataset = FashionDataset(\"../dataset/train.csv\")\n",
    "test_dataset = FashionDataset(\"../dataset/test.csv\")\n",
    "\n",
    "print(f\"Lengths of datasets: {len(train_dataset)} train + {len(test_dataset)} test\")\n",
    "\n",
    "index = 32\n",
    "image, label = train_dataset[index]\n",
    "data = [\n",
    "    [\"Input Image\", image.shape, image.dtype, str(image)[:500] + \"...\"],\n",
    "    [\"Output Label\", label.shape, image.dtype, label],\n",
    "]\n",
    "print(\"Explore sample:\")\n",
    "print(\n",
    "    tabulate(\n",
    "        data,\n",
    "        headers=[\"Description\", \"Shape\", \"DType\", \"Preview\"],\n",
    "        tablefmt=\"rounded_grid\",\n",
    "    )\n",
    ")"
   ]
  },
  {
   "cell_type": "markdown",
   "metadata": {},
   "source": [
    "## Dataloaders\n",
    "\n",
    "Dataloaders allow you to load your Dataset samples in *batches* (multiple \n",
    "samples at a time). Batch sizes can affect training dynamics. A rough rule to follow:\n",
    "- lower batch sizes give more accurate gradient estimates, which can help the model converge better but may result in slower training.\n",
    "- higher batch sizes speed up training by using hardware more efficiently, but they may lead to less accurate gradient estimates and poorer generalization."
   ]
  },
  {
   "cell_type": "code",
   "execution_count": 20,
   "metadata": {},
   "outputs": [
    {
     "name": "stdout",
     "output_type": "stream",
     "text": [
      "Explore sample batch:\n",
      "╭─────────────────────────┬───────────────────────────┬───────────────┬──────────────────────────────────────────────────────────────────────────────────╮\n",
      "│ Description             │ Shape                     │ DType         │ Preview                                                                          │\n",
      "├─────────────────────────┼───────────────────────────┼───────────────┼──────────────────────────────────────────────────────────────────────────────────┤\n",
      "│ Input Images (batched)  │ torch.Size([128, 28, 28]) │ torch.float32 │ tensor([[0.0000, 0.0000, 0.0000, 0.0000, 0.0000, 0.0039, 0.0078, 0.0000, 0.0000, │\n",
      "│                         │                           │               │          0.0000, 0.0000, 0.2275, 0.3451, 0.4000, 0.3059, 0.3922, 0.5020, 0.3686, │\n",
      "│                         │                           │               │          0.0000, 0.0000, 0.0000, 0.0000, 0.0000, 0.0078, 0.0000, 0.0000, 0.0000, │\n",
      "│                         │                           │               │          0.0000],                                                                │\n",
      "│                         │                           │               │         [0.0000, 0.0000, 0.0000, 0.0000, 0.0039, 0.0039, 0.0039, 0.0078, 0.0000, │\n",
      "│                         │                           │               │          0.0000, 0.0353, 0.8314, 0.6706, 0.7647, 0.6902, 0.8706, 0.7373, 0.7294, │\n",
      "│                         │                           │               │          0.2314, 0.0000, 0.0039, 0.0039, 0.0118, 0.0039, 0.0000, 0.0000, 0.00... │\n",
      "├─────────────────────────┼───────────────────────────┼───────────────┼──────────────────────────────────────────────────────────────────────────────────┤\n",
      "│ Output Labels (batched) │ torch.Size([128])         │ torch.int64   │ tensor([4, 0, 6, 5, 3, 3, 7, 2, 0, 2, 0, 0, 6, 9, 1, 6, 2, 6, 0, 9, 3, 1, 0, 3,  │\n",
      "│                         │                           │               │         9, 5, 9, 9, ...                                                          │\n",
      "╰─────────────────────────┴───────────────────────────┴───────────────┴──────────────────────────────────────────────────────────────────────────────────╯\n"
     ]
    }
   ],
   "source": [
    "hyper_params = {\n",
    "    \"batch_size\": 128,\n",
    "    \"lr\": 0.001,\n",
    "    \"num_epochs\": 10,\n",
    "}\n",
    "\n",
    "train_loader = DataLoader(\n",
    "    train_dataset,\n",
    "    batch_size=hyper_params[\"batch_size\"],\n",
    "    shuffle=True,\n",
    ")\n",
    "val_loader = DataLoader(\n",
    "    test_dataset,\n",
    "    batch_size=hyper_params[\"batch_size\"],\n",
    ")  # no need to shuffle\n",
    "\n",
    "# get a single \"batch\" and explore it\n",
    "for images, labels in train_loader:\n",
    "    data = [\n",
    "        [\n",
    "            \"Input Images (batched)\",\n",
    "            images.shape,\n",
    "            images.dtype,\n",
    "            str(image)[:500] + \"...\",\n",
    "        ],\n",
    "        [\n",
    "            \"Output Labels (batched)\",\n",
    "            labels.shape,\n",
    "            labels.dtype,\n",
    "            str(labels)[:100] + \"...\",\n",
    "        ],\n",
    "    ]\n",
    "    print(\"Explore sample batch:\")\n",
    "    print(\n",
    "        tabulate(\n",
    "            data,\n",
    "            headers=[\"Description\", \"Shape\", \"DType\", \"Preview\"],\n",
    "            tablefmt=\"rounded_grid\",\n",
    "        )\n",
    "    )\n",
    "    break"
   ]
  },
  {
   "cell_type": "markdown",
   "metadata": {},
   "source": [
    "## Initialize Model\n",
    "\n",
    "We've provided some boilerplate. Your job is to choose your optimizer and model architecture."
   ]
  },
  {
   "cell_type": "code",
   "execution_count": 21,
   "metadata": {},
   "outputs": [],
   "source": [
    "import torch\n",
    "import torch.nn as nn\n",
    "import torch.nn.functional as F\n",
    "import torch.optim as optim\n",
    "\n",
    "\n",
    "class CustomMLP(nn.Module):\n",
    "    def __init__(self):\n",
    "        super().__init__()\n",
    "\n",
    "        self.mlp = nn.Sequential(\n",
    "            nn.Flatten(),\n",
    "            nn.Linear(28 * 28, 64),\n",
    "            nn.ReLU(),\n",
    "            nn.Linear(64, 64),\n",
    "            nn.ReLU(),\n",
    "            nn.Linear(64, 10),\n",
    "        )\n",
    "\n",
    "        self.optim = optim.Adam(self.mlp.parameters())\n",
    "\n",
    "        self.metrics = {\n",
    "            \"train\": {\"losses\": [], \"accuracies\": []},\n",
    "            \"val\": {\"losses\": [], \"accuracies\": []},\n",
    "        }\n",
    "\n",
    "    def forward(self, image):\n",
    "        assert len(image.shape) == 3, \"Input of shape (B, 28, 28) expected.\"\n",
    "        return self.mlp(image)"
   ]
  },
  {
   "cell_type": "code",
   "execution_count": 22,
   "metadata": {},
   "outputs": [
    {
     "name": "stdout",
     "output_type": "stream",
     "text": [
      "╭──────────────────┬──────────────────────────────────────────────────────────────────────────────────╮\n",
      "│ Image shape:     │ torch.Size([1, 28, 28])                                                          │\n",
      "├──────────────────┼──────────────────────────────────────────────────────────────────────────────────┤\n",
      "│ Output:          │ tensor([[ 0.0236, -0.2307,  0.0298,  0.0081, -0.1521,  0.1047, -0.1653,  0.0031, │\n",
      "│                  │           0.1428, -0.0324]], grad_fn=<AddmmBackward0>)                           │\n",
      "├──────────────────┼──────────────────────────────────────────────────────────────────────────────────┤\n",
      "│ Output shape:    │ torch.Size([1, 10])                                                              │\n",
      "├──────────────────┼──────────────────────────────────────────────────────────────────────────────────┤\n",
      "│ Predicted label: │ tensor([8])                                                                      │\n",
      "╰──────────────────┴──────────────────────────────────────────────────────────────────────────────────╯\n"
     ]
    }
   ],
   "source": [
    "# test a simple forward pass\n",
    "model = CustomMLP()\n",
    "sample_image = train_dataset[0][0].reshape(\n",
    "    (1, 28, 28)\n",
    ")  # reshape to add batch dimension of 1\n",
    "sample_output = model(sample_image)\n",
    "predicted_label = sample_output.argmax(dim=1)\n",
    "\n",
    "print(\n",
    "    tabulate(\n",
    "        [\n",
    "            [\"Image shape:\", sample_image.shape],\n",
    "            [\"Output:\", sample_output],\n",
    "            [\"Output shape:\", sample_output.shape],\n",
    "            [\"Predicted label:\", predicted_label]\n",
    "        ],\n",
    "        tablefmt=\"rounded_grid\",\n",
    "    )\n",
    ")"
   ]
  },
  {
   "cell_type": "markdown",
   "metadata": {},
   "source": [
    "## Training and Validation"
   ]
  },
  {
   "cell_type": "code",
   "execution_count": 23,
   "metadata": {},
   "outputs": [],
   "source": [
    "\"\"\"\n",
    "train method\n",
    "-----------\n",
    "- gets called once every training \"epoch\"\n",
    "- An epoch refers to a complete pass through the entire training dataset. \n",
    "- During an epoch, the model processes batches of data sequentially, computes gradients, and updates parameters.\n",
    "\"\"\"\n",
    "\n",
    "from tqdm import tqdm\n",
    "\n",
    "\n",
    "def train(model, dataloader, device):\n",
    "    model.train()\n",
    "    epoch_correct = 0\n",
    "    epoch_loss = 0\n",
    "\n",
    "    for image_batch, label_batch in tqdm(dataloader):\n",
    "        image_batch, label_batch = image_batch.to(device), label_batch.to(device)\n",
    "        model.optim.zero_grad()\n",
    "        output = model(image_batch)\n",
    "        loss = F.cross_entropy(output, label_batch)  # TODO: compute loss with loss function of your choice\n",
    "        epoch_loss += float(loss.data) / dataloader.batch_size\n",
    "        loss.backward()\n",
    "        model.optim.step()\n",
    "\n",
    "        predicted_labels = output.argmax(dim=1)\n",
    "        iteration_correct = (predicted_labels == label_batch).sum().item()\n",
    "        epoch_correct += iteration_correct\n",
    "\n",
    "    # for metric plotting at end\n",
    "    model.metrics[\"train\"][\"losses\"].append(epoch_loss / len(dataloader.dataset))\n",
    "    model.metrics[\"train\"][\"accuracies\"].append(\n",
    "        100 * epoch_correct / len(dataloader.dataset)\n",
    "    )\n",
    "\n",
    "\n",
    "def validate(model, dataloader, device):\n",
    "    model.eval()\n",
    "    epoch_correct = 0\n",
    "    epoch_loss = 0\n",
    "\n",
    "    with torch.no_grad():\n",
    "        for image_batch, label_batch in tqdm(dataloader):\n",
    "            image_batch, label_batch = image_batch.to(device), label_batch.to(device)\n",
    "            output = model(image_batch)\n",
    "            loss = F.cross_entropy(output, label_batch)\n",
    "            epoch_loss += float(loss.data) / dataloader.batch_size\n",
    "\n",
    "            predicted_labels = output.argmax(dim=1)\n",
    "            iteration_correct = (predicted_labels == label_batch).sum().item()\n",
    "            epoch_correct += iteration_correct\n",
    "\n",
    "    model.metrics[\"val\"][\"losses\"].append(epoch_loss / len(dataloader.dataset))\n",
    "    model.metrics[\"val\"][\"accuracies\"].append(\n",
    "        100 * epoch_correct / len(dataloader.dataset)\n",
    "    )"
   ]
  },
  {
   "cell_type": "markdown",
   "metadata": {},
   "source": [
    "## Train Models!\n",
    "\n",
    "Now that you've setup your datasets, dataloaders, model, training and \n",
    "validation steps, and chosen your optimizer loss criterion, it's time to actually\n",
    "train for a number of epochs. \n",
    "\n",
    "Since you saved your training and validation accuracies and losses, we can also \n",
    "generate some useful plots to analyze how well your model is learning!"
   ]
  },
  {
   "cell_type": "code",
   "execution_count": 24,
   "metadata": {},
   "outputs": [
    {
     "name": "stdout",
     "output_type": "stream",
     "text": [
      "Using MPS (Apple Metal)\n"
     ]
    }
   ],
   "source": [
    "# first we choose an acceleration device if it is available\n",
    "if torch.cuda.is_available():\n",
    "    device = torch.device(\"cuda\")\n",
    "    print(\"Using CUDA (NVIDIA)\")\n",
    "elif torch.backends.mps.is_available():\n",
    "    device = torch.device(\"mps\")\n",
    "    print(\"Using MPS (Apple Metal)\")\n",
    "else:\n",
    "    device = torch.device(\"cpu\")\n",
    "    print(\"Using CPU (generic)\")\n",
    "    \n",
    "# move model to device\n",
    "model = model.to(device)"
   ]
  },
  {
   "cell_type": "code",
   "execution_count": 25,
   "metadata": {},
   "outputs": [
    {
     "name": "stdout",
     "output_type": "stream",
     "text": [
      "Training with the following hyperparameters:\n",
      "┌──────────────────┬─────────┐\n",
      "│ Hyperparameter   │   Value │\n",
      "├──────────────────┼─────────┤\n",
      "│ batch_size       │ 128     │\n",
      "├──────────────────┼─────────┤\n",
      "│ lr               │   0.001 │\n",
      "├──────────────────┼─────────┤\n",
      "│ num_epochs       │  10     │\n",
      "└──────────────────┴─────────┘\n",
      "Epoch 1 ------------------------------------------------------\n"
     ]
    },
    {
     "name": "stderr",
     "output_type": "stream",
     "text": [
      "100%|██████████| 469/469 [00:17<00:00, 27.34it/s]\n"
     ]
    },
    {
     "name": "stdout",
     "output_type": "stream",
     "text": [
      "╭────────────────┬────────────────────╮\n",
      "│ Train Accuracy │ 77.57166666666667% │\n",
      "├────────────────┼────────────────────┤\n",
      "│ Train Loss     │ 0.0000             │\n",
      "╰────────────────┴────────────────────╯\n"
     ]
    },
    {
     "name": "stderr",
     "output_type": "stream",
     "text": [
      "100%|██████████| 79/79 [00:02<00:00, 35.64it/s]\n"
     ]
    },
    {
     "name": "stdout",
     "output_type": "stream",
     "text": [
      "┌─────────────────────┬────────┐\n",
      "│ Validation Accuracy │ 81.17% │\n",
      "├─────────────────────┼────────┤\n",
      "│ Validation Loss     │ 0.0000 │\n",
      "└─────────────────────┴────────┘\n",
      "Epoch 2 ------------------------------------------------------\n"
     ]
    },
    {
     "name": "stderr",
     "output_type": "stream",
     "text": [
      "100%|██████████| 469/469 [00:15<00:00, 29.98it/s]\n"
     ]
    },
    {
     "name": "stdout",
     "output_type": "stream",
     "text": [
      "╭────────────────┬────────────────────╮\n",
      "│ Train Accuracy │ 84.70833333333333% │\n",
      "├────────────────┼────────────────────┤\n",
      "│ Train Loss     │ 0.0000             │\n",
      "╰────────────────┴────────────────────╯\n"
     ]
    },
    {
     "name": "stderr",
     "output_type": "stream",
     "text": [
      "100%|██████████| 79/79 [00:02<00:00, 32.18it/s]\n"
     ]
    },
    {
     "name": "stdout",
     "output_type": "stream",
     "text": [
      "┌─────────────────────┬────────┐\n",
      "│ Validation Accuracy │ 84.93% │\n",
      "├─────────────────────┼────────┤\n",
      "│ Validation Loss     │ 0.0000 │\n",
      "└─────────────────────┴────────┘\n",
      "Epoch 3 ------------------------------------------------------\n"
     ]
    },
    {
     "name": "stderr",
     "output_type": "stream",
     "text": [
      "100%|██████████| 469/469 [00:18<00:00, 26.03it/s]\n"
     ]
    },
    {
     "name": "stdout",
     "output_type": "stream",
     "text": [
      "╭────────────────┬────────────────────╮\n",
      "│ Train Accuracy │ 86.15333333333334% │\n",
      "├────────────────┼────────────────────┤\n",
      "│ Train Loss     │ 0.0000             │\n",
      "╰────────────────┴────────────────────╯\n"
     ]
    },
    {
     "name": "stderr",
     "output_type": "stream",
     "text": [
      "100%|██████████| 79/79 [00:02<00:00, 35.94it/s]\n"
     ]
    },
    {
     "name": "stdout",
     "output_type": "stream",
     "text": [
      "┌─────────────────────┬────────┐\n",
      "│ Validation Accuracy │ 85.12% │\n",
      "├─────────────────────┼────────┤\n",
      "│ Validation Loss     │ 0.0000 │\n",
      "└─────────────────────┴────────┘\n",
      "Epoch 4 ------------------------------------------------------\n"
     ]
    },
    {
     "name": "stderr",
     "output_type": "stream",
     "text": [
      "100%|██████████| 469/469 [00:14<00:00, 32.42it/s]\n"
     ]
    },
    {
     "name": "stdout",
     "output_type": "stream",
     "text": [
      "╭────────────────┬────────────────────╮\n",
      "│ Train Accuracy │ 86.96666666666667% │\n",
      "├────────────────┼────────────────────┤\n",
      "│ Train Loss     │ 0.0000             │\n",
      "╰────────────────┴────────────────────╯\n"
     ]
    },
    {
     "name": "stderr",
     "output_type": "stream",
     "text": [
      "100%|██████████| 79/79 [00:02<00:00, 33.74it/s]\n"
     ]
    },
    {
     "name": "stdout",
     "output_type": "stream",
     "text": [
      "┌─────────────────────┬────────┐\n",
      "│ Validation Accuracy │ 85.39% │\n",
      "├─────────────────────┼────────┤\n",
      "│ Validation Loss     │ 0.0000 │\n",
      "└─────────────────────┴────────┘\n",
      "Epoch 5 ------------------------------------------------------\n"
     ]
    },
    {
     "name": "stderr",
     "output_type": "stream",
     "text": [
      "100%|██████████| 469/469 [00:15<00:00, 30.54it/s]\n"
     ]
    },
    {
     "name": "stdout",
     "output_type": "stream",
     "text": [
      "╭────────────────┬────────────────────╮\n",
      "│ Train Accuracy │ 87.70333333333333% │\n",
      "├────────────────┼────────────────────┤\n",
      "│ Train Loss     │ 0.0000             │\n",
      "╰────────────────┴────────────────────╯\n"
     ]
    },
    {
     "name": "stderr",
     "output_type": "stream",
     "text": [
      "100%|██████████| 79/79 [00:02<00:00, 34.57it/s]\n"
     ]
    },
    {
     "name": "stdout",
     "output_type": "stream",
     "text": [
      "┌─────────────────────┬────────┐\n",
      "│ Validation Accuracy │ 86.99% │\n",
      "├─────────────────────┼────────┤\n",
      "│ Validation Loss     │ 0.0000 │\n",
      "└─────────────────────┴────────┘\n",
      "Epoch 6 ------------------------------------------------------\n"
     ]
    },
    {
     "name": "stderr",
     "output_type": "stream",
     "text": [
      "100%|██████████| 469/469 [00:14<00:00, 31.99it/s]\n"
     ]
    },
    {
     "name": "stdout",
     "output_type": "stream",
     "text": [
      "╭────────────────┬────────────────────╮\n",
      "│ Train Accuracy │ 88.21333333333334% │\n",
      "├────────────────┼────────────────────┤\n",
      "│ Train Loss     │ 0.0000             │\n",
      "╰────────────────┴────────────────────╯\n"
     ]
    },
    {
     "name": "stderr",
     "output_type": "stream",
     "text": [
      "100%|██████████| 79/79 [00:02<00:00, 38.07it/s]\n"
     ]
    },
    {
     "name": "stdout",
     "output_type": "stream",
     "text": [
      "┌─────────────────────┬────────┐\n",
      "│ Validation Accuracy │ 86.86% │\n",
      "├─────────────────────┼────────┤\n",
      "│ Validation Loss     │ 0.0000 │\n",
      "└─────────────────────┴────────┘\n",
      "Epoch 7 ------------------------------------------------------\n"
     ]
    },
    {
     "name": "stderr",
     "output_type": "stream",
     "text": [
      "100%|██████████| 469/469 [00:16<00:00, 28.96it/s]\n"
     ]
    },
    {
     "name": "stdout",
     "output_type": "stream",
     "text": [
      "╭────────────────┬────────╮\n",
      "│ Train Accuracy │ 88.61% │\n",
      "├────────────────┼────────┤\n",
      "│ Train Loss     │ 0.0000 │\n",
      "╰────────────────┴────────╯\n"
     ]
    },
    {
     "name": "stderr",
     "output_type": "stream",
     "text": [
      "100%|██████████| 79/79 [00:02<00:00, 35.96it/s]\n"
     ]
    },
    {
     "name": "stdout",
     "output_type": "stream",
     "text": [
      "┌─────────────────────┬────────┐\n",
      "│ Validation Accuracy │ 87.57% │\n",
      "├─────────────────────┼────────┤\n",
      "│ Validation Loss     │ 0.0000 │\n",
      "└─────────────────────┴────────┘\n",
      "Epoch 8 ------------------------------------------------------\n"
     ]
    },
    {
     "name": "stderr",
     "output_type": "stream",
     "text": [
      "100%|██████████| 469/469 [00:14<00:00, 32.79it/s]\n"
     ]
    },
    {
     "name": "stdout",
     "output_type": "stream",
     "text": [
      "╭────────────────┬────────────────────╮\n",
      "│ Train Accuracy │ 88.80333333333333% │\n",
      "├────────────────┼────────────────────┤\n",
      "│ Train Loss     │ 0.0000             │\n",
      "╰────────────────┴────────────────────╯\n"
     ]
    },
    {
     "name": "stderr",
     "output_type": "stream",
     "text": [
      "100%|██████████| 79/79 [00:02<00:00, 38.10it/s]\n"
     ]
    },
    {
     "name": "stdout",
     "output_type": "stream",
     "text": [
      "┌─────────────────────┬────────┐\n",
      "│ Validation Accuracy │ 86.94% │\n",
      "├─────────────────────┼────────┤\n",
      "│ Validation Loss     │ 0.0000 │\n",
      "└─────────────────────┴────────┘\n",
      "Epoch 9 ------------------------------------------------------\n"
     ]
    },
    {
     "name": "stderr",
     "output_type": "stream",
     "text": [
      "100%|██████████| 469/469 [00:14<00:00, 33.09it/s]\n"
     ]
    },
    {
     "name": "stdout",
     "output_type": "stream",
     "text": [
      "╭────────────────┬────────────────────╮\n",
      "│ Train Accuracy │ 89.18166666666667% │\n",
      "├────────────────┼────────────────────┤\n",
      "│ Train Loss     │ 0.0000             │\n",
      "╰────────────────┴────────────────────╯\n"
     ]
    },
    {
     "name": "stderr",
     "output_type": "stream",
     "text": [
      "100%|██████████| 79/79 [00:02<00:00, 37.74it/s]\n"
     ]
    },
    {
     "name": "stdout",
     "output_type": "stream",
     "text": [
      "┌─────────────────────┬────────┐\n",
      "│ Validation Accuracy │ 86.88% │\n",
      "├─────────────────────┼────────┤\n",
      "│ Validation Loss     │ 0.0000 │\n",
      "└─────────────────────┴────────┘\n",
      "Epoch 10 ------------------------------------------------------\n"
     ]
    },
    {
     "name": "stderr",
     "output_type": "stream",
     "text": [
      "100%|██████████| 469/469 [00:14<00:00, 33.20it/s]\n"
     ]
    },
    {
     "name": "stdout",
     "output_type": "stream",
     "text": [
      "╭────────────────┬────────╮\n",
      "│ Train Accuracy │ 89.45% │\n",
      "├────────────────┼────────┤\n",
      "│ Train Loss     │ 0.0000 │\n",
      "╰────────────────┴────────╯\n"
     ]
    },
    {
     "name": "stderr",
     "output_type": "stream",
     "text": [
      "100%|██████████| 79/79 [00:02<00:00, 34.60it/s]"
     ]
    },
    {
     "name": "stdout",
     "output_type": "stream",
     "text": [
      "┌─────────────────────┬────────┐\n",
      "│ Validation Accuracy │ 87.11% │\n",
      "├─────────────────────┼────────┤\n",
      "│ Validation Loss     │ 0.0000 │\n",
      "└─────────────────────┴────────┘\n"
     ]
    },
    {
     "name": "stderr",
     "output_type": "stream",
     "text": [
      "\n"
     ]
    }
   ],
   "source": [
    "print(\"Training with the following hyperparameters:\")\n",
    "table = [[key, value] for key, value in hyper_params.items()]\n",
    "print(tabulate(table, headers=[\"Hyperparameter\", \"Value\"], tablefmt=\"simple_grid\"))\n",
    "\n",
    "\n",
    "for i in range(hyper_params[\"num_epochs\"]):\n",
    "    print(f\"Epoch {i+1} ------------------------------------------------------\")\n",
    "    train(model, train_loader, device)\n",
    "    print(\n",
    "        tabulate(\n",
    "            [\n",
    "                [\"Train Accuracy\", f\"{model.metrics['train']['accuracies'][-1]}%\"],\n",
    "                [\"Train Loss\", f\"{model.metrics['train']['losses'][-1]:.4f}\"],\n",
    "            ],\n",
    "            tablefmt=\"rounded_grid\",\n",
    "        )\n",
    "    )\n",
    "\n",
    "    validate(model, val_loader, device)\n",
    "    print(\n",
    "        tabulate(\n",
    "            [\n",
    "                [\"Validation Accuracy\", f\"{model.metrics['val']['accuracies'][-1]}%\"],\n",
    "                [\"Validation Loss\", f\"{model.metrics['val']['losses'][-1]:.4f}\"],\n",
    "            ],\n",
    "            tablefmt=\"simple_grid\",\n",
    "        )\n",
    "    )"
   ]
  },
  {
   "cell_type": "code",
   "execution_count": 26,
   "metadata": {},
   "outputs": [
    {
     "data": {
      "image/png": "[encoded data removed]",
      "text/plain": [
       "<Figure size 1000x800 with 4 Axes>"
      ]
     },
     "metadata": {},
     "output_type": "display_data"
    }
   ],
   "source": [
    "import matplotlib.pyplot as plt\n",
    "\n",
    "epochs = range(1, len(model.metrics[\"train\"][\"losses\"]) + 1)\n",
    "train_losses = model.metrics[\"train\"][\"losses\"]\n",
    "val_losses = model.metrics[\"val\"][\"losses\"]\n",
    "train_accuracies = model.metrics[\"train\"][\"accuracies\"]\n",
    "val_accuracies = model.metrics[\"val\"][\"accuracies\"]\n",
    "\n",
    "# Create a 2x2 subplot grid\n",
    "fig, axes = plt.subplots(2, 2, figsize=(10, 8))\n",
    "\n",
    "loss_color = \"orange\"\n",
    "accuracy_color = \"green\"\n",
    "\n",
    "# Plot train losses\n",
    "axes[0, 0].plot(epochs, train_losses, label=\"Train Loss\", color=loss_color)\n",
    "axes[0, 0].set_title(\"Train Loss\")\n",
    "axes[0, 0].set_xlabel(\"Epochs\")\n",
    "axes[0, 0].set_ylabel(\"Loss\")\n",
    "axes[0, 0].set_xticks(epochs)\n",
    "\n",
    "# Plot val losses\n",
    "axes[0, 1].plot(epochs, val_losses, label=\"Val Loss\", color=loss_color)\n",
    "axes[0, 1].set_title(\"Validation Loss\")\n",
    "axes[0, 1].set_xlabel(\"Epochs\")\n",
    "axes[0, 1].set_ylabel(\"Loss\")\n",
    "axes[0, 1].set_xticks(epochs)\n",
    "\n",
    "# Plot train accuracies\n",
    "axes[1, 0].plot(epochs, train_accuracies, label=\"Train Accuracy\", color=accuracy_color)\n",
    "axes[1, 0].set_title(\"Train Accuracy\")\n",
    "axes[1, 0].set_xlabel(\"Epochs\")\n",
    "axes[1, 0].set_ylabel(\"Accuracy\")\n",
    "axes[1, 0].set_xticks(epochs)\n",
    "\n",
    "# Plot val accuracies\n",
    "axes[1, 1].plot(epochs, val_accuracies, label=\"Val Accuracy\", color=accuracy_color)\n",
    "axes[1, 1].set_title(\"Validation Accuracy\")\n",
    "axes[1, 1].set_xlabel(\"Epochs\")\n",
    "axes[1, 1].set_ylabel(\"Accuracy\")\n",
    "axes[1, 1].set_xticks(epochs)\n",
    "\n",
    "# Adjust layout\n",
    "plt.tight_layout()\n",
    "plt.show()"
   ]
  }
 ],
 "metadata": {
  "kernelspec": {
   "display_name": ".venv",
   "language": "python",
   "name": "python3"
  },
  "language_info": {
   "codemirror_mode": {
    "name": "ipython",
    "version": 3
   },
   "file_extension": ".py",
   "mimetype": "text/x-python",
   "name": "python",
   "nbconvert_exporter": "python",
   "pygments_lexer": "ipython3",
   "version": "3.11.1"
  }
 },
 "nbformat": 4,
 "nbformat_minor": 2
}
